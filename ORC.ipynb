{
 "cells": [
  {
   "cell_type": "code",
   "execution_count": 2,
   "metadata": {},
   "outputs": [
    {
     "name": "stdout",
     "output_type": "stream",
     "text": [
      "Requirement already satisfied: pdfminer.six in /Users/hibik/opt/anaconda3/lib/python3.8/site-packages (20211012)\n",
      "Requirement already satisfied: cryptography in /Users/hibik/opt/anaconda3/lib/python3.8/site-packages (from pdfminer.six) (3.4.7)\n",
      "Requirement already satisfied: chardet in /Users/hibik/opt/anaconda3/lib/python3.8/site-packages (from pdfminer.six) (4.0.0)\n",
      "Requirement already satisfied: cffi>=1.12 in /Users/hibik/opt/anaconda3/lib/python3.8/site-packages (from cryptography->pdfminer.six) (1.14.5)\n",
      "Requirement already satisfied: pycparser in /Users/hibik/opt/anaconda3/lib/python3.8/site-packages (from cffi>=1.12->cryptography->pdfminer.six) (2.20)\n"
     ]
    }
   ],
   "source": [
    "!pip install pdfminer.six"
   ]
  },
  {
   "cell_type": "code",
   "execution_count": 3,
   "metadata": {},
   "outputs": [],
   "source": [
    "import pdfminer"
   ]
  },
  {
   "cell_type": "code",
   "execution_count": 6,
   "metadata": {},
   "outputs": [
    {
     "name": "stdout",
     "output_type": "stream",
     "text": [
      "美術史B  第4回　日本の近代デザイン2\n",
      "\n",
      "大正から昭和初期\n",
      "\n",
      "大正時代\n",
      "\n",
      "大正デモクラシー\n",
      "\n",
      "背景\n",
      "\n",
      "社会の動き\n",
      "\n",
      "デザインに対する意識の高まり\n",
      "\n",
      "ヨーロッパからのデザイン、芸術の動き\n",
      "\n",
      "民藝運動\n",
      "\n",
      "柳宗悦\n",
      "\n",
      "朝鮮陶磁器\n",
      "\n",
      "浅川伯教・巧\n",
      "\n",
      "「民藝」運動\n",
      "\n",
      "『工芸の美』\n",
      "\n",
      "日本民藝館\n",
      "\n",
      "\f美術史B  第4回　日本の近代デザイン2\n",
      "\n",
      "日本のアール・デコ\n",
      "\n",
      "アール・デコ\n",
      "\n",
      "ポスターに見るアール・デコ\n",
      "\n",
      "杉浦非水\n",
      "\n",
      "カッサンドルの影響\n",
      "\n",
      "アール・デコ建築\n",
      "東京都庭園美術館（旧朝香宮邸）　\n",
      "\n",
      "\f"
     ]
    }
   ],
   "source": [
    "!python3 pdf2txt.py m.pdf\n"
   ]
  },
  {
   "cell_type": "code",
   "execution_count": 8,
   "metadata": {},
   "outputs": [],
   "source": [
    "text = !python3 pdf2txt.py p.pdf"
   ]
  },
  {
   "cell_type": "code",
   "execution_count": 9,
   "metadata": {},
   "outputs": [
    {
     "name": "stdout",
     "output_type": "stream",
     "text": [
      "['Ofa  beat1t~r  salon ', '', 'レ1NE-エD.:.  ~ 切vnrA11 ', '', 'F', '', '.', ' ', '', 'z', 'L.', ' ', '', '...__ ', '', '｝', ' ', '', 'L', ' ', '', '~ ', '', '加 藤 真 優', 'mayu katou ', '', '〒125-0041', '東京都葛飾区東金町2-18-1 マルマスビル205', 'TEL&F AX:03-5876-3397 ', 'Mail:sprw88y9@celery.ocn.ne.jp ', '', '']\n"
     ]
    }
   ],
   "source": [
    "print(text)"
   ]
  },
  {
   "cell_type": "code",
   "execution_count": 15,
   "metadata": {},
   "outputs": [],
   "source": [
    "list_example4 = [a for a in text if a != '']"
   ]
  },
  {
   "cell_type": "code",
   "execution_count": 16,
   "metadata": {},
   "outputs": [
    {
     "name": "stdout",
     "output_type": "stream",
     "text": [
      "['Ofa  beat1t~r  salon ', 'レ1NE-エD.:.  ~ 切vnrA11 ', 'F', '.', ' ', 'z', 'L.', ' ', '...__ ', '｝', ' ', 'L', ' ', '~ ', '加 藤 真 優', 'mayu katou ', '〒125-0041', '東京都葛飾区東金町2-18-1 マルマスビル205', 'TEL&F AX:03-5876-3397 ', 'Mail:sprw88y9@celery.ocn.ne.jp ']\n"
     ]
    }
   ],
   "source": [
    "print(list_example4)"
   ]
  },
  {
   "cell_type": "code",
   "execution_count": null,
   "metadata": {},
   "outputs": [],
   "source": []
  }
 ],
 "metadata": {
  "interpreter": {
   "hash": "a0cb75012bf8d1b247f020df96febfa4ca78df95aca5709cb269e3a60ed5ece9"
  },
  "kernelspec": {
   "display_name": "Python 3.8.8 64-bit ('base': conda)",
   "name": "python3"
  },
  "language_info": {
   "codemirror_mode": {
    "name": "ipython",
    "version": 3
   },
   "file_extension": ".py",
   "mimetype": "text/x-python",
   "name": "python",
   "nbconvert_exporter": "python",
   "pygments_lexer": "ipython3",
   "version": "3.8.8"
  },
  "orig_nbformat": 4
 },
 "nbformat": 4,
 "nbformat_minor": 2
}
